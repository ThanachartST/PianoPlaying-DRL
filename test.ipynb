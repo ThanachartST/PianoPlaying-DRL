{
 "cells": [
  {
   "cell_type": "code",
   "execution_count": 1,
   "metadata": {},
   "outputs": [],
   "source": [
    "import subprocess\n",
    "import numpy as np\n",
    "\n",
    "\n",
    "from robopianist.suite.tasks import self_actuated_piano\n",
    "from robopianist.suite.tasks import piano_with_shadow_hands\n",
    "from dm_env_wrappers import CanonicalSpecWrapper\n",
    "from robopianist.wrappers import PianoSoundVideoWrapper\n",
    "from robopianist import music\n",
    "from mujoco_utils import composer_utils\n",
    "import dm_env\n",
    "\n",
    "%load_ext autoreload\n",
    "%autoreload 2\n",
    "\n",
    "#   The command to quite VLC after finished\n",
    "QUIT_VLC_COMMAND = 'vlc://quit'\n",
    "def play_video( video_path:str ):\n",
    "    #   Using cvlc -> not interface\n",
    "    subprocess.Popen( ['cvlc', video_path, QUIT_VLC_COMMAND ] )"
   ]
  },
  {
   "cell_type": "markdown",
   "metadata": {},
   "source": [
    "### Self-actuated piano task"
   ]
  },
  {
   "cell_type": "code",
   "execution_count": 15,
   "metadata": {},
   "outputs": [],
   "source": [
    "task = self_actuated_piano.SelfActuatedPiano(\n",
    "    midi=music.load(\"TwinkleTwinkleRousseau\"),\n",
    "    change_color_on_activation=True,\n",
    "    trim_silence=True,\n",
    "    control_timestep=0.01,\n",
    ")\n",
    "\n",
    "env = composer_utils.Environment(\n",
    "    recompile_physics=False, task=task, strip_singleton_obs_buffer_dim=True\n",
    ")\n",
    "\n",
    "env = PianoSoundVideoWrapper(\n",
    "    env,\n",
    "    record_every=1,\n",
    "    camera_id=\"piano/back\",\n",
    "    record_dir=\".\",\n",
    ")"
   ]
  },
  {
   "cell_type": "code",
   "execution_count": 16,
   "metadata": {},
   "outputs": [
    {
     "name": "stdout",
     "output_type": "stream",
     "text": [
      "Action dimension: (89,)\n"
     ]
    }
   ],
   "source": [
    "action_spec = env.action_spec()\n",
    "min_ctrl = action_spec.minimum\n",
    "max_ctrl = action_spec.maximum\n",
    "print(f\"Action dimension: {action_spec.shape}\")"
   ]
  },
  {
   "cell_type": "code",
   "execution_count": 17,
   "metadata": {},
   "outputs": [
    {
     "name": "stdout",
     "output_type": "stream",
     "text": [
      "Observables:\n",
      "\tgoal: (89,) float64\n",
      "\tpiano/activation: (88,) float64\n",
      "\tpiano/sustain_activation: (1,) float64\n",
      "Observation dimension: 178\n"
     ]
    }
   ],
   "source": [
    "print(\"Observables:\")\n",
    "timestep = env.reset()\n",
    "dim = 0\n",
    "for k, v in timestep.observation.items():\n",
    "    print(f\"\\t{k}: {v.shape} {v.dtype}\")\n",
    "    dim += np.prod(v.shape)\n",
    "print(f\"Observation dimension: {dim}\")"
   ]
  },
  {
   "cell_type": "code",
   "execution_count": 18,
   "metadata": {},
   "outputs": [],
   "source": [
    "class Oracle:\n",
    "    def __call__(self, timestep: dm_env.TimeStep) -> np.ndarray:\n",
    "        if timestep.reward is not None:\n",
    "            assert timestep.reward == 0\n",
    "        # Only grab the next timestep's goal state.\n",
    "        goal = timestep.observation[\"goal\"][: task.piano.n_keys]\n",
    "        key_idxs = np.flatnonzero(goal)\n",
    "        # For goal keys that should be pressed, set the action to the maximum\n",
    "        # actuator value. For goal keys that should be released, set the action to\n",
    "        # the minimum actuator value.\n",
    "        action = min_ctrl.copy()\n",
    "        action[key_idxs] = max_ctrl[key_idxs]\n",
    "        # Grab the sustain pedal action.\n",
    "        action[-1] = timestep.observation[\"goal\"][-1]\n",
    "        return action"
   ]
  },
  {
   "cell_type": "code",
   "execution_count": 19,
   "metadata": {},
   "outputs": [
    {
     "name": "stdout",
     "output_type": "stream",
     "text": [
      "00002.mp4\n"
     ]
    }
   ],
   "source": [
    "policy = Oracle()\n",
    "\n",
    "timestep = env.reset()\n",
    "while not timestep.last():\n",
    "    action = policy(timestep)\n",
    "    timestep = env.step(action)"
   ]
  },
  {
   "cell_type": "code",
   "execution_count": 8,
   "metadata": {},
   "outputs": [],
   "source": [
    "play_video( env.latest_filename )"
   ]
  },
  {
   "cell_type": "markdown",
   "metadata": {},
   "source": [
    "### Piano with shadow hand"
   ]
  },
  {
   "cell_type": "code",
   "execution_count": 2,
   "metadata": {},
   "outputs": [],
   "source": [
    "task = piano_with_shadow_hands.PianoWithShadowHands(\n",
    "    change_color_on_activation=True,\n",
    "    midi=music.load(\"TwinkleTwinkleRousseau\"),\n",
    "    trim_silence=True,\n",
    "    control_timestep=0.05,\n",
    "    gravity_compensation=True,\n",
    "    primitive_fingertip_collisions=False,\n",
    "    reduced_action_space=False,\n",
    "    n_steps_lookahead=10,\n",
    "    disable_fingering_reward=False,\n",
    "    disable_forearm_reward=False,\n",
    "    disable_colorization=False,\n",
    "    disable_hand_collisions=False,\n",
    "    attachment_yaw=0.0,\n",
    ")\n",
    "\n",
    "env = composer_utils.Environment(\n",
    "    task=task, strip_singleton_obs_buffer_dim=True, recompile_physics=False\n",
    ")\n",
    "\n",
    "\n",
    "env = PianoSoundVideoWrapper(\n",
    "    env,\n",
    "    record_every=10,\n",
    "    camera_id=\"piano/back\",\n",
    "    record_dir=\".\",\n",
    ")\n",
    "\n",
    "env = CanonicalSpecWrapper(env)"
   ]
  },
  {
   "cell_type": "code",
   "execution_count": 3,
   "metadata": {},
   "outputs": [],
   "source": [
    "# action_spec = env.action_spec()\n",
    "# print(f\"Action dimension: {action_spec.shape}\")"
   ]
  },
  {
   "cell_type": "code",
   "execution_count": 4,
   "metadata": {},
   "outputs": [],
   "source": [
    "# timestep = env.reset()\n",
    "# dim = 0\n",
    "# for k, v in timestep.observation.items():\n",
    "#     print(f\"\\t{k}: {v.shape} {v.dtype}\")\n",
    "#     dim += int(np.prod(v.shape))\n",
    "# print(f\"Observation dimension: {dim}\")"
   ]
  },
  {
   "cell_type": "code",
   "execution_count": 5,
   "metadata": {},
   "outputs": [],
   "source": [
    "class Policy:\n",
    "    def __init__(self) -> None:\n",
    "        self.reset()\n",
    "\n",
    "    def reset(self) -> None:\n",
    "        self._idx = 0\n",
    "        self._actions = np.load(\"/home/ultra/work/oeipaca/robopianist/examples/twinkle_twinkle_actions.npy\")\n",
    "\n",
    "    def __call__(self, timestep: dm_env.TimeStep) -> np.ndarray:\n",
    "        del timestep  # Unused.\n",
    "        actions = self._actions[self._idx]\n",
    "        self._idx += 1\n",
    "        return actions"
   ]
  },
  {
   "cell_type": "markdown",
   "metadata": {},
   "source": [
    "##### There are some bug when the number of recording is not every episode "
   ]
  },
  {
   "cell_type": "code",
   "execution_count": 7,
   "metadata": {},
   "outputs": [
    {
     "name": "stdout",
     "output_type": "stream",
     "text": [
      "Writting video: 00030.mp4\n",
      "Writting video: 00040.mp4\n"
     ]
    }
   ],
   "source": [
    "for i in range( 20 ):\n",
    "    policy = Policy()\n",
    "    timestep = env.reset()\n",
    "    \n",
    "    while not timestep.last():\n",
    "        action = policy(timestep)\n",
    "        timestep = env.step(action)\n",
    "\n",
    "        # num_steps, rewards, discount, obs = timestep\n",
    "        # print( 'Step: {}, discout {}'.format( num_steps, discount ))"
   ]
  },
  {
   "cell_type": "code",
   "execution_count": null,
   "metadata": {},
   "outputs": [
    {
     "name": "stderr",
     "output_type": "stream",
     "text": [
      "[00005e931644aba0] dummy interface: using the dummy interface module...\n",
      "[00007e74f4004a70] gl gl: Initialized libplacebo v4.192.1 (API v192)\n",
      "libva info: VA-API version 1.14.0\n",
      "libva info: Trying to open /usr/lib/x86_64-linux-gnu/dri/radeonsi_drv_video.so\n",
      "libva info: Found init function __vaDriverInit_1_14\n",
      "libva info: va_openDriver() returns 0\n",
      "[00007e7508c24f80] avcodec decoder: Using Mesa Gallium driver 23.2.1-1ubuntu3.1~22.04.2 for RENOIR (renoir, LLVM 15.0.7, DRM 3.54, 6.5.0-26-generic) for hardware decoding\n",
      "[00007e7508c15b00] idummy demux: command `quit'\n"
     ]
    }
   ],
   "source": [
    "play_video( env.latest_filename )"
   ]
  },
  {
   "cell_type": "code",
   "execution_count": null,
   "metadata": {},
   "outputs": [],
   "source": []
  }
 ],
 "metadata": {
  "kernelspec": {
   "display_name": "oeipaca",
   "language": "python",
   "name": "python3"
  },
  "language_info": {
   "codemirror_mode": {
    "name": "ipython",
    "version": 3
   },
   "file_extension": ".py",
   "mimetype": "text/x-python",
   "name": "python",
   "nbconvert_exporter": "python",
   "pygments_lexer": "ipython3",
   "version": "3.10.12"
  }
 },
 "nbformat": 4,
 "nbformat_minor": 2
}
